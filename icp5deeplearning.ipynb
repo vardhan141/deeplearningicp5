{
  "nbformat": 4,
  "nbformat_minor": 0,
  "metadata": {
    "colab": {
      "provenance": []
    },
    "kernelspec": {
      "name": "python3",
      "display_name": "Python 3"
    },
    "language_info": {
      "name": "python"
    }
  },
  "cells": [
    {
      "cell_type": "code",
      "execution_count": 1,
      "metadata": {
        "id": "UHStp0l4WRjj"
      },
      "outputs": [],
      "source": [
        "\n",
        "import pandas as pd # packages for creating dataframes and loading dataset\n",
        "import numpy as np\n",
        "# package for plotting\n",
        "import matplotlib.pyplot as plt\n",
        "# for regular expressions\n",
        "import re\n",
        "# for implementing machine learning functions\n",
        "from sklearn.model_selection import train_test_split\n",
        "\n",
        "from sklearn.preprocessing import LabelEncoder\n",
        "# for deep learning models and functions\n",
        "from keras.preprocessing.text import Tokenizer\n",
        "from keras.utils import pad_sequences\n",
        "from keras.models import Sequential\n",
        "from keras.layers import Dense, Embedding, LSTM, SpatialDropout1D\n",
        "from keras.utils.np_utils import to_categorical\n"
      ]
    },
    {
      "cell_type": "code",
      "source": [
        "import pandas as pd\n",
        "# Load the dataset as a Pandas DataFrame\n",
        "dataset = pd.read_csv('Sentiment.csv')\n",
        "\n",
        "# Select only the necessary columns 'text' and 'sentiment'\n",
        "mask = dataset.columns.isin(['text', 'sentiment'])\n",
        "data = dataset.loc[:, mask]\n",
        "# Keeping only the necessary columns\n",
        "\n",
        ""
      ],
      "metadata": {
        "id": "Rqb7VdYBWWGe"
      },
      "execution_count": 2,
      "outputs": []
    },
    {
      "cell_type": "code",
      "source": [
        "data['text'] = data['text'].apply(lambda x: x.lower())\n",
        "data['text'] = data['text'].apply((lambda x: re.sub('[^a-zA-z0-9\\s]', '', x)))"
      ],
      "metadata": {
        "colab": {
          "base_uri": "https://localhost:8080/"
        },
        "id": "E6OQnU_hWiiV",
        "outputId": "2193f746-58b2-45bd-c0f4-5f6345978cd5"
      },
      "execution_count": 3,
      "outputs": [
        {
          "output_type": "stream",
          "name": "stderr",
          "text": [
            "<ipython-input-3-cee1da567eb8>:1: SettingWithCopyWarning: \n",
            "A value is trying to be set on a copy of a slice from a DataFrame.\n",
            "Try using .loc[row_indexer,col_indexer] = value instead\n",
            "\n",
            "See the caveats in the documentation: https://pandas.pydata.org/pandas-docs/stable/user_guide/indexing.html#returning-a-view-versus-a-copy\n",
            "  data['text'] = data['text'].apply(lambda x: x.lower())\n",
            "<ipython-input-3-cee1da567eb8>:2: SettingWithCopyWarning: \n",
            "A value is trying to be set on a copy of a slice from a DataFrame.\n",
            "Try using .loc[row_indexer,col_indexer] = value instead\n",
            "\n",
            "See the caveats in the documentation: https://pandas.pydata.org/pandas-docs/stable/user_guide/indexing.html#returning-a-view-versus-a-copy\n",
            "  data['text'] = data['text'].apply((lambda x: re.sub('[^a-zA-z0-9\\s]', '', x)))\n"
          ]
        }
      ]
    },
    {
      "cell_type": "code",
      "source": [
        "for idx, row in data.iterrows():\n",
        "    row[0] = row[0].replace('rt', ' ') # removing retweets\n",
        "max_fatures = 2000\n",
        "tokenizer = Tokenizer(num_words=max_fatures, split=' ')   #Maximum words is 2000 to tokenize sentence\n",
        "tokenizer.fit_on_texts(data['text'].values)\n",
        "X = tokenizer.texts_to_sequences(data['text'].values) #taking values to feature matrix\n",
        "X = pad_sequences(X) #Padding the feature matrix\n",
        "embed_dim = 128 #Dimension of the Embedded layer\n",
        "lstm_out = 196 #Long short-term memory (LSTM) layer neurons\n",
        "def createmodel():\n",
        "    model = Sequential() #Sequential Neural Network\n",
        "    model.add(Embedding(max_fatures, embed_dim,input_length = X.shape[1])) #input dimension 2000 Neurons, output dimension 128 Neurons\n",
        "    model.add(LSTM(lstm_out, dropout=0.2, recurrent_dropout=0.2)) #Drop out 20%, 196 output Neurons, recurrent dropout 20%\n",
        "    model.add(Dense(3,activation='softmax')) #3 output neurons[positive, Neutral, Negative], softmax as activation\n",
        "    model.compile(loss = 'categorical_crossentropy', optimizer='adam',metrics = ['accuracy']) #Compiling the model\n",
        "    return model\n",
        "# print(model.summary())\n",
        "labelencoder = LabelEncoder()\n",
        "integer_encoded = labelencoder.fit_transform(data['sentiment'])\n",
        "y = to_categorical(integer_encoded)\n",
        "X_train, X_test, Y_train, Y_test = train_test_split(X,y, test_size = 0.33, random_state = 42)\n",
        "batch_size = 32 #Batch size 32\n",
        "model = createmodel() #Function call to Sequential Neural Network\n",
        "model.fit(X_train, Y_train, epochs = 1, batch_size=batch_size, verbose = 2) #verbose the higher, the more messages\n",
        "score,acc = model.evaluate(X_test,Y_test,verbose=2,batch_size=batch_size) #evaluating the modelprint(score)\n",
        "print(acc)"
      ],
      "metadata": {
        "colab": {
          "base_uri": "https://localhost:8080/"
        },
        "id": "pPTQMKwIWjXj",
        "outputId": "7c56ff59-a122-40a2-d25b-f1504ea10814"
      },
      "execution_count": 4,
      "outputs": [
        {
          "output_type": "stream",
          "name": "stdout",
          "text": [
            "291/291 - 64s - loss: 0.8256 - accuracy: 0.6436 - 64s/epoch - 220ms/step\n",
            "144/144 - 3s - loss: 0.7431 - accuracy: 0.6774 - 3s/epoch - 22ms/step\n",
            "0.7431066632270813\n",
            "0.677370011806488\n"
          ]
        }
      ]
    },
    {
      "cell_type": "code",
      "source": [
        "print(model.metrics_names)#metrics of the model"
      ],
      "metadata": {
        "colab": {
          "base_uri": "https://localhost:8080/"
        },
        "id": "oLC7-ytvW5Pm",
        "outputId": "57c7aa68-67b6-4af7-c6ab-b161da44c39f"
      },
      "execution_count": 5,
      "outputs": [
        {
          "output_type": "stream",
          "name": "stdout",
          "text": [
            "['loss', 'accuracy']\n"
          ]
        }
      ]
    },
    {
      "cell_type": "markdown",
      "source": [
        "Save the model and use the saved model to predict on new text data (ex, “A lot of good things are happening. We are respected again throughout the world, and that's a great thing.@realDonaldTrump”)"
      ],
      "metadata": {
        "id": "618vQXAq1r5k"
      }
    },
    {
      "cell_type": "code",
      "source": [
        "model.save('sentimentAnalysis.h5') #Saving the model\n",
        "from keras.models import load_model #Importing the package for importing the saved model\n",
        "model= load_model('sentimentAnalysis.h5') #loading the saved model"
      ],
      "metadata": {
        "id": "onX8RqLGW6VZ"
      },
      "execution_count": 6,
      "outputs": []
    },
    {
      "cell_type": "code",
      "source": [
        "print(integer_encoded)\n",
        "print(data['sentiment'])"
      ],
      "metadata": {
        "colab": {
          "base_uri": "https://localhost:8080/"
        },
        "id": "0Ab0DtevW9da",
        "outputId": "f71fc7d0-b836-44aa-870e-4d16aec8a778"
      },
      "execution_count": 7,
      "outputs": [
        {
          "output_type": "stream",
          "name": "stdout",
          "text": [
            "[1 2 1 ... 2 0 2]\n",
            "0         Neutral\n",
            "1        Positive\n",
            "2         Neutral\n",
            "3        Positive\n",
            "4        Positive\n",
            "           ...   \n",
            "13866    Negative\n",
            "13867    Positive\n",
            "13868    Positive\n",
            "13869    Negative\n",
            "13870    Positive\n",
            "Name: sentiment, Length: 13871, dtype: object\n"
          ]
        }
      ]
    },
    {
      "cell_type": "code",
      "source": [
        "# Predicting on the text data\n",
        "sentence = ['A lot of good things are happening. We are respected again throughout the world, and that is a great thing.@realDonaldTrump']\n",
        "sentence = tokenizer.texts_to_sequences(sentence) # Tokenizing the sentence\n",
        "sentence = pad_sequences(sentence, maxlen=28, dtype='int32', value=0) # Padding the sentence\n",
        "sentiment_probs = model.predict(sentence, batch_size=1, verbose=2)[0] # Predicting the sentence text\n",
        "sentiment = np.argmax(sentiment_probs)\n",
        "\n",
        "print(sentiment_probs)\n",
        "if sentiment == 0:\n",
        "    print(\"Neutral\")\n",
        "elif sentiment < 0:\n",
        "    print(\"Negative\")\n",
        "elif sentiment > 0:\n",
        "    print(\"Positive\")\n",
        "else:\n",
        "    print(\"Cannot be determined\")"
      ],
      "metadata": {
        "colab": {
          "base_uri": "https://localhost:8080/"
        },
        "id": "hv0kbOxXXAHU",
        "outputId": "eb9b929a-43ef-4323-ec2e-542c6db2843b"
      },
      "execution_count": 8,
      "outputs": [
        {
          "output_type": "stream",
          "name": "stdout",
          "text": [
            "1/1 - 1s - 507ms/epoch - 507ms/step\n",
            "[0.65985817 0.09624108 0.2439008 ]\n",
            "Neutral\n"
          ]
        }
      ]
    },
    {
      "cell_type": "markdown",
      "source": [
        "Apply GridSearchCV on the source code provided in the class"
      ],
      "metadata": {
        "id": "vQFzTviR1yEG"
      }
    },
    {
      "cell_type": "code",
      "source": [
        "from keras.wrappers.scikit_learn import KerasClassifier #importing Keras classifier\n",
        "from sklearn.model_selection import GridSearchCV #importing Grid search CV\n",
        "model = KerasClassifier(build_fn=createmodel,verbose=2) #initiating model to test performance by applying multiple hyper parameters\n",
        "batch_size= [10, 20, 40] #hyper parameter batch_size\n",
        "epochs = [1, 2] #hyper parameter no. of epochs\n",
        "param_grid= {'batch_size':batch_size, 'epochs':epochs} #creating dictionary for batch size, no. of epochs\n",
        "grid  = GridSearchCV(estimator=model, param_grid=param_grid) #Applying dictionary with hyper parameters\n",
        "grid_result= grid.fit(X_train,Y_train) #Fitting the model\n",
        "# summarize results\n",
        "print(\"Best: %f using %s\" % (grid_result.best_score_, grid_result.best_params_)) #best score, best hyper parameters"
      ],
      "metadata": {
        "colab": {
          "base_uri": "https://localhost:8080/"
        },
        "id": "4-BruEHeXDvt",
        "outputId": "3e80851a-1248-43c3-cd40-4a2c90b052be"
      },
      "execution_count": 9,
      "outputs": [
        {
          "metadata": {
            "tags": null
          },
          "name": "stderr",
          "output_type": "stream",
          "text": [
            "<ipython-input-9-79e6f2b2d339>:4: DeprecationWarning: KerasClassifier is deprecated, use Sci-Keras (https://github.com/adriangb/scikeras) instead. See https://www.adriangb.com/scikeras/stable/migration.html for help migrating.\n",
            "  model = KerasClassifier(build_fn=createmodel,verbose=2)\n"
          ]
        },
        {
          "output_type": "stream",
          "name": "stdout",
          "text": [
            "744/744 - 106s - loss: 0.8309 - accuracy: 0.6431 - 106s/epoch - 142ms/step\n",
            "186/186 - 3s - loss: 0.7543 - accuracy: 0.6616 - 3s/epoch - 17ms/step\n",
            "744/744 - 99s - loss: 0.8231 - accuracy: 0.6466 - 99s/epoch - 133ms/step\n",
            "186/186 - 4s - loss: 0.7693 - accuracy: 0.6756 - 4s/epoch - 21ms/step\n",
            "744/744 - 105s - loss: 0.8283 - accuracy: 0.6439 - 105s/epoch - 141ms/step\n",
            "186/186 - 4s - loss: 0.7757 - accuracy: 0.6724 - 4s/epoch - 20ms/step\n",
            "744/744 - 109s - loss: 0.8259 - accuracy: 0.6444 - 109s/epoch - 146ms/step\n",
            "186/186 - 4s - loss: 0.7440 - accuracy: 0.6787 - 4s/epoch - 21ms/step\n",
            "744/744 - 103s - loss: 0.8211 - accuracy: 0.6429 - 103s/epoch - 138ms/step\n",
            "186/186 - 3s - loss: 0.7779 - accuracy: 0.6717 - 3s/epoch - 15ms/step\n",
            "Epoch 1/2\n",
            "744/744 - 103s - loss: 0.8267 - accuracy: 0.6466 - 103s/epoch - 138ms/step\n",
            "Epoch 2/2\n",
            "744/744 - 97s - loss: 0.6817 - accuracy: 0.7082 - 97s/epoch - 131ms/step\n",
            "186/186 - 3s - loss: 0.7488 - accuracy: 0.6783 - 3s/epoch - 14ms/step\n",
            "Epoch 1/2\n",
            "744/744 - 99s - loss: 0.8231 - accuracy: 0.6489 - 99s/epoch - 133ms/step\n",
            "Epoch 2/2\n",
            "744/744 - 96s - loss: 0.6832 - accuracy: 0.7133 - 96s/epoch - 129ms/step\n",
            "186/186 - 4s - loss: 0.8039 - accuracy: 0.6358 - 4s/epoch - 21ms/step\n",
            "Epoch 1/2\n",
            "744/744 - 101s - loss: 0.8241 - accuracy: 0.6422 - 101s/epoch - 135ms/step\n",
            "Epoch 2/2\n",
            "744/744 - 97s - loss: 0.6734 - accuracy: 0.7144 - 97s/epoch - 130ms/step\n",
            "186/186 - 3s - loss: 0.7625 - accuracy: 0.6735 - 3s/epoch - 15ms/step\n",
            "Epoch 1/2\n",
            "744/744 - 105s - loss: 0.8296 - accuracy: 0.6389 - 105s/epoch - 142ms/step\n",
            "Epoch 2/2\n",
            "744/744 - 103s - loss: 0.6758 - accuracy: 0.7146 - 103s/epoch - 138ms/step\n",
            "186/186 - 3s - loss: 0.7829 - accuracy: 0.6582 - 3s/epoch - 15ms/step\n",
            "Epoch 1/2\n",
            "744/744 - 101s - loss: 0.8129 - accuracy: 0.6516 - 101s/epoch - 136ms/step\n",
            "Epoch 2/2\n",
            "744/744 - 97s - loss: 0.6655 - accuracy: 0.7166 - 97s/epoch - 130ms/step\n",
            "186/186 - 3s - loss: 0.7840 - accuracy: 0.6598 - 3s/epoch - 16ms/step\n",
            "372/372 - 57s - loss: 0.8285 - accuracy: 0.6442 - 57s/epoch - 152ms/step\n",
            "93/93 - 2s - loss: 0.7366 - accuracy: 0.6810 - 2s/epoch - 21ms/step\n",
            "372/372 - 60s - loss: 0.8271 - accuracy: 0.6427 - 60s/epoch - 162ms/step\n",
            "93/93 - 3s - loss: 0.7540 - accuracy: 0.6767 - 3s/epoch - 28ms/step\n",
            "372/372 - 56s - loss: 0.8258 - accuracy: 0.6443 - 56s/epoch - 151ms/step\n",
            "93/93 - 2s - loss: 0.7568 - accuracy: 0.6810 - 2s/epoch - 21ms/step\n",
            "372/372 - 55s - loss: 0.8348 - accuracy: 0.6356 - 55s/epoch - 149ms/step\n",
            "93/93 - 2s - loss: 0.7552 - accuracy: 0.6755 - 2s/epoch - 19ms/step\n",
            "372/372 - 61s - loss: 0.8283 - accuracy: 0.6449 - 61s/epoch - 163ms/step\n",
            "93/93 - 2s - loss: 0.7644 - accuracy: 0.6878 - 2s/epoch - 22ms/step\n",
            "Epoch 1/2\n",
            "372/372 - 57s - loss: 0.8350 - accuracy: 0.6410 - 57s/epoch - 153ms/step\n",
            "Epoch 2/2\n",
            "372/372 - 53s - loss: 0.6836 - accuracy: 0.7066 - 53s/epoch - 142ms/step\n",
            "93/93 - 2s - loss: 0.7233 - accuracy: 0.6821 - 2s/epoch - 20ms/step\n",
            "Epoch 1/2\n",
            "372/372 - 56s - loss: 0.8316 - accuracy: 0.6406 - 56s/epoch - 151ms/step\n",
            "Epoch 2/2\n",
            "372/372 - 53s - loss: 0.6842 - accuracy: 0.7093 - 53s/epoch - 142ms/step\n",
            "93/93 - 2s - loss: 0.7401 - accuracy: 0.6815 - 2s/epoch - 20ms/step\n",
            "Epoch 1/2\n",
            "372/372 - 58s - loss: 0.8397 - accuracy: 0.6376 - 58s/epoch - 155ms/step\n",
            "Epoch 2/2\n",
            "372/372 - 53s - loss: 0.6847 - accuracy: 0.7109 - 53s/epoch - 143ms/step\n",
            "93/93 - 2s - loss: 0.7354 - accuracy: 0.6842 - 2s/epoch - 26ms/step\n",
            "Epoch 1/2\n",
            "372/372 - 56s - loss: 0.8413 - accuracy: 0.6398 - 56s/epoch - 149ms/step\n",
            "Epoch 2/2\n",
            "372/372 - 53s - loss: 0.6873 - accuracy: 0.7052 - 53s/epoch - 142ms/step\n",
            "93/93 - 2s - loss: 0.7518 - accuracy: 0.6862 - 2s/epoch - 21ms/step\n",
            "Epoch 1/2\n",
            "372/372 - 54s - loss: 0.8215 - accuracy: 0.6473 - 54s/epoch - 145ms/step\n",
            "Epoch 2/2\n",
            "372/372 - 50s - loss: 0.6708 - accuracy: 0.7142 - 50s/epoch - 135ms/step\n",
            "93/93 - 2s - loss: 0.7715 - accuracy: 0.6728 - 2s/epoch - 25ms/step\n",
            "186/186 - 35s - loss: 0.8446 - accuracy: 0.6365 - 35s/epoch - 188ms/step\n",
            "47/47 - 1s - loss: 0.7437 - accuracy: 0.6746 - 1s/epoch - 28ms/step\n",
            "186/186 - 37s - loss: 0.8433 - accuracy: 0.6348 - 37s/epoch - 198ms/step\n",
            "47/47 - 1s - loss: 0.7878 - accuracy: 0.6633 - 1s/epoch - 29ms/step\n",
            "186/186 - 35s - loss: 0.8502 - accuracy: 0.6306 - 35s/epoch - 190ms/step\n",
            "47/47 - 1s - loss: 0.7831 - accuracy: 0.6643 - 1s/epoch - 28ms/step\n",
            "186/186 - 35s - loss: 0.8528 - accuracy: 0.6328 - 35s/epoch - 187ms/step\n",
            "47/47 - 1s - loss: 0.7597 - accuracy: 0.6738 - 1s/epoch - 28ms/step\n",
            "186/186 - 36s - loss: 0.8424 - accuracy: 0.6332 - 36s/epoch - 195ms/step\n",
            "47/47 - 1s - loss: 0.7793 - accuracy: 0.6550 - 1s/epoch - 29ms/step\n",
            "Epoch 1/2\n",
            "186/186 - 35s - loss: 0.8492 - accuracy: 0.6371 - 35s/epoch - 189ms/step\n",
            "Epoch 2/2\n",
            "186/186 - 32s - loss: 0.6993 - accuracy: 0.7006 - 32s/epoch - 174ms/step\n",
            "47/47 - 1s - loss: 0.7323 - accuracy: 0.6708 - 1s/epoch - 29ms/step\n",
            "Epoch 1/2\n",
            "186/186 - 35s - loss: 0.8385 - accuracy: 0.6369 - 35s/epoch - 187ms/step\n",
            "Epoch 2/2\n",
            "186/186 - 31s - loss: 0.6977 - accuracy: 0.7012 - 31s/epoch - 165ms/step\n",
            "47/47 - 2s - loss: 0.7360 - accuracy: 0.6772 - 2s/epoch - 43ms/step\n",
            "Epoch 1/2\n",
            "186/186 - 36s - loss: 0.8427 - accuracy: 0.6333 - 36s/epoch - 196ms/step\n",
            "Epoch 2/2\n",
            "186/186 - 33s - loss: 0.6837 - accuracy: 0.7117 - 33s/epoch - 177ms/step\n",
            "47/47 - 1s - loss: 0.7399 - accuracy: 0.6832 - 1s/epoch - 29ms/step\n",
            "Epoch 1/2\n",
            "186/186 - 35s - loss: 0.8396 - accuracy: 0.6359 - 35s/epoch - 190ms/step\n",
            "Epoch 2/2\n",
            "186/186 - 33s - loss: 0.6828 - accuracy: 0.7130 - 33s/epoch - 176ms/step\n",
            "47/47 - 1s - loss: 0.7470 - accuracy: 0.6722 - 1s/epoch - 29ms/step\n",
            "Epoch 1/2\n",
            "186/186 - 35s - loss: 0.8440 - accuracy: 0.6352 - 35s/epoch - 190ms/step\n",
            "Epoch 2/2\n",
            "186/186 - 32s - loss: 0.6799 - accuracy: 0.7108 - 32s/epoch - 173ms/step\n",
            "47/47 - 1s - loss: 0.7818 - accuracy: 0.6781 - 1s/epoch - 29ms/step\n",
            "Epoch 1/2\n",
            "465/465 - 72s - loss: 0.8116 - accuracy: 0.6428 - 72s/epoch - 155ms/step\n",
            "Epoch 2/2\n",
            "465/465 - 68s - loss: 0.6727 - accuracy: 0.7176 - 68s/epoch - 146ms/step\n",
            "Best: 0.681373 using {'batch_size': 20, 'epochs': 2}\n"
          ]
        }
      ]
    }
  ]
}